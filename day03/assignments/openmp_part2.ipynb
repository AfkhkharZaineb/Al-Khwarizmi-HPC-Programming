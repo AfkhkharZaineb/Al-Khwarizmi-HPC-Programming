{
 "cells": [
  {
   "cell_type": "markdown",
   "metadata": {},
   "source": [
    "<h1 align=\"center\">OpenMP part 2</h1> "
   ]
  },
  {
   "cell_type": "markdown",
   "metadata": {},
   "source": [
    "## Exercise 1:\n",
    "\n",
    "Using your code 2D non linear convection equation from the `numba_pyccel_assignments`:\n",
    "1. Parallelize the 2D non linear convection equation\n",
    "2. Compare cpu time using different number of threads (Plot a figure of cpu time according to number of threads)"
   ]
  },
  {
   "cell_type": "code",
   "execution_count": 1,
   "metadata": {},
   "outputs": [],
   "source": [
    "# write your code here\n",
    "import numpy as np\n",
    "from matplotlib import pyplot, cm\n",
    "import matplotlib.pyplot as plt\n",
    "from mpl_toolkits.mplot3d import Axes3D\n",
    "from numba import njit\n",
    "from pyccel.epyccel import epyccel\n",
    "import time"
   ]
  },
  {
   "cell_type": "code",
   "execution_count": 14,
   "metadata": {},
   "outputs": [],
   "source": [
    "#%%file nonlinearconv2d.py\n",
    "from pyccel.stdlib.internal.openmp import omp_in_parallel,omp_get_thread_num, omp_get_num_threads\n",
    "\n",
    "def threads_num():\n",
    "    #getting threads num\n",
    "    n = omp_get_num_threads()\n",
    "    return n\n",
    "\n",
    "def solve_2d_linearconv_pyccel(u:'float[:,:]', un:'float[:,:]', nt:'int', dt:'float', dx:'float', dy:'float', c:'float'): \n",
    "    \n",
    "    row, col = u.shape\n",
    "    #$omp parallel \n",
    "    #fill the update of u\n",
    "    #$omp for\n",
    "    for n in range(nt + 1): ##loop across number of time steps\n",
    "        un[:] = u[:]\n",
    "        row, col = u.shape\n",
    "        #$omp for collapse(2)\n",
    "        for j in range(1, row):\n",
    "            for i in range(1, col):\n",
    "                u[j, i] = (un[j, i] - (c * dt / dx * (un[j, i] - un[j, i - 1])) -\n",
    "                                      (c * dt / dy * (un[j, i] - un[j - 1, i])))\n",
    "                u[0, :] = 1\n",
    "                u[-1, :] = 1\n",
    "                u[:, 0] = 1\n",
    "                u[:, -1] = 1\n",
    "    #$omp end parallel   \n",
    "    \n",
    "    return 0"
   ]
  },
  {
   "cell_type": "code",
   "execution_count": 17,
   "metadata": {},
   "outputs": [
    {
     "name": "stdout",
     "output_type": "stream",
     "text": [
      "1\n",
      "cpu time is  3.353565049\n"
     ]
    }
   ],
   "source": [
    "#%%file convection.py\n",
    "if __name__ == \"__main__\" :\n",
    "    import time\n",
    "    #from nonlinearconv2d import solve_2d_linearconv_pyccel, threads_num\n",
    "    nx = 101\n",
    "    ny = 101\n",
    "    nt = 100\n",
    "    c = 1.0\n",
    "    dx = 2 / (nx - 1)\n",
    "    dy = 2 / (ny - 1)\n",
    "    sigma = .2\n",
    "    dt = sigma * dx\n",
    "\n",
    "    x = np.linspace(0, 2, nx)\n",
    "    y = np.linspace(0, 2, ny)\n",
    "\n",
    "    u0 = np.ones((ny, nx)) ##create a 1xn vector of 1's\n",
    "    u0[int(.5 / dy):int(1 / dy + 1),int(.5 / dx):int(1 / dx + 1)] = 2 \n",
    "    u = u0.copy()\n",
    "    un = np.ones((ny, nx))\n",
    "    \n",
    "    #fun = epyccel(solve_2d_linearconv_pyccel,language = 'c',accelerators = 'openmp')\n",
    "    \n",
    "    # Start timing\n",
    "    tcpu_0 = time.process_time() # CPU time\n",
    "    print(threads_num())\n",
    "    solve_2d_linearconv_pyccel(u, un, nt, dt, dx, dy, c)\n",
    "    # CPU time spent\n",
    "    \n",
    "    tcpu_1 = time.process_time()\n",
    "    tcpu = tcpu_1 - tcpu_0\n",
    "    \n",
    "    print(\"cpu time is \",tcpu)\n"
   ]
  },
  {
   "cell_type": "code",
   "execution_count": null,
   "metadata": {},
   "outputs": [],
   "source": [
    "#pyccel --language=c convection.py --openmp\n",
    "#export n #n={1,2,3,4}\n",
    "# ./convecion"
   ]
  },
  {
   "cell_type": "code",
   "execution_count": 18,
   "metadata": {},
   "outputs": [
    {
     "data": {
      "text/plain": [
       "[<matplotlib.lines.Line2D at 0x7fffb9dce310>]"
      ]
     },
     "execution_count": 18,
     "metadata": {},
     "output_type": "execute_result"
    },
    {
     "data": {
      "image/png": "[encoded data removed]",
      "text/plain": [
       "<Figure size 432x288 with 1 Axes>"
      ]
     },
     "metadata": {
      "needs_background": "light"
     },
     "output_type": "display_data"
    }
   ],
   "source": [
    "#Resultats :\n",
    "threads = np.array([1,2,3,4])\n",
    "cpu_time = np.array([3.353,2.3702,0.444,0.0003])\n",
    "plt.plot(threads,cpu_time)"
   ]
  },
  {
   "cell_type": "markdown",
   "metadata": {},
   "source": [
    "## Exercise 2:\n",
    "\n",
    "Using your code Navier Stokes equation from the `numba_pyccel_assignments`:\n",
    "1. Pyccelize the Navier Stokes equation (if it's not done).\n",
    "2. Parallelize it using OpenMP.\n",
    "3. Compare cpu time using different number of threads (Plot a figure of cpu time according to number of threads)"
   ]
  },
  {
   "cell_type": "code",
   "execution_count": 37,
   "metadata": {},
   "outputs": [],
   "source": [
    "def build_up_b(b : 'float[:,:]', rho : float, dt : float, u : 'float[:,:]', v : 'float[:,:]', dx : float, dy : float):\n",
    "    import numpy\n",
    "    b[1:-1, 1:-1] = (rho * (1 / dt * \n",
    "                    ((u[1:-1, 2:] - u[1:-1, 0:-2]) / \n",
    "                     (2 * dx) + (v[2:, 1:-1] - v[0:-2, 1:-1]) / (2 * dy)) -\n",
    "                    ((u[1:-1, 2:] - u[1:-1, 0:-2]) / (2 * dx))**2 -\n",
    "                      2 * ((u[2:, 1:-1] - u[0:-2, 1:-1]) / (2 * dy) *\n",
    "                           (v[1:-1, 2:] - v[1:-1, 0:-2]) / (2 * dx))-\n",
    "                          ((v[2:, 1:-1] - v[0:-2, 1:-1]) / (2 * dy))**2))\n",
    "\n",
    "    return b\n",
    "\n",
    "def pressure_poisson(p : 'float[:,:]', dx : float, dy : float, b : 'float[:,:]'):\n",
    "    import numpy\n",
    "    pn = numpy.empty_like(p)\n",
    "    pn[:,:] = p[:,:]\n",
    "    #$omp parallel\n",
    "    #$omp for\n",
    "    for q in range(nt):\n",
    "        pn[:,:] = p[:,:]\n",
    "        p[1:-1, 1:-1] = (((pn[1:-1, 2:] + pn[1:-1, 0:-2]) * dy**2 + \n",
    "                          (pn[2:, 1:-1] + pn[0:-2, 1:-1]) * dx**2) /\n",
    "                          (2 * (dx**2 + dy**2)) -\n",
    "                          dx**2 * dy**2 / (2 * (dx**2 + dy**2)) * \n",
    "                          b[1:-1,1:-1])\n",
    "\n",
    "        p[:, -1] = p[:, -2] ##dp/dy = 0 at x = 2\n",
    "        p[0, :] = p[1, :]  ##dp/dy = 0 at y = 0\n",
    "        p[:, 0] = p[:, 1]    ##dp/dx = 0 at x = 0\n",
    "        p[-1, :] = 0        ##p = 0 at y = 2\n",
    "    #$omp end parallel   \n",
    "    return p\n",
    "\n",
    "def cavity_flow(nx : int, ny : int, nt : int, u : 'float[:,:]', v : 'float[:,:]', dt : float, dx : float, dy : float, p : 'float[:,:]', rho : float, nu : int):\n",
    "    import numpy\n",
    "    un = numpy.empty_like(u)\n",
    "    vn = numpy.empty_like(v)\n",
    "    b = numpy.zeros((ny, nx))\n",
    "    #$omp parallel\n",
    "    #$omp for\n",
    "    for n in range(nt):\n",
    "        un[:,:] = u[:,:]\n",
    "        vn[:,:] = v[:,:]\n",
    "        \n",
    "        b = build_up_b(b, rho, dt, u, v, dx, dy)\n",
    "        p = pressure_poisson(p, dx, dy, b)\n",
    "        \n",
    "        u[1:-1, 1:-1] = (un[1:-1, 1:-1]-\n",
    "                         un[1:-1, 1:-1] * dt / dx *\n",
    "                        (un[1:-1, 1:-1] - un[1:-1, 0:-2]) -\n",
    "                         vn[1:-1, 1:-1] * dt / dy *\n",
    "                        (un[1:-1, 1:-1] - un[0:-2, 1:-1]) -\n",
    "                         dt / (2 * rho * dx) * (p[1:-1, 2:] - p[1:-1, 0:-2]) +\n",
    "                         nu * (dt / dx**2 *\n",
    "                        (un[1:-1, 2:] - 2 * un[1:-1, 1:-1] + un[1:-1, 0:-2]) +\n",
    "                         dt / dy**2 *\n",
    "                        (un[2:, 1:-1] - 2 * un[1:-1, 1:-1] + un[0:-2, 1:-1])))\n",
    "\n",
    "        v[1:-1,1:-1] = (vn[1:-1, 1:-1] -\n",
    "                        un[1:-1, 1:-1] * dt / dx *\n",
    "                       (vn[1:-1, 1:-1] - vn[1:-1, 0:-2]) -\n",
    "                        vn[1:-1, 1:-1] * dt / dy *\n",
    "                       (vn[1:-1, 1:-1] - vn[0:-2, 1:-1]) -\n",
    "                        dt / (2 * rho * dy) * (p[2:, 1:-1] - p[0:-2, 1:-1]) +\n",
    "                        nu * (dt / dx**2 *\n",
    "                       (vn[1:-1, 2:] - 2 * vn[1:-1, 1:-1] + vn[1:-1, 0:-2]) +\n",
    "                        dt / dy**2 *\n",
    "                       (vn[2:, 1:-1] - 2 * vn[1:-1, 1:-1] + vn[0:-2, 1:-1])))\n",
    "        #$omp end parallel\n",
    "        u[0, :] = 0\n",
    "        u[:, 0] = 0\n",
    "        u[:, -1] = 0\n",
    "        u[-1, :] = 1    #set velocity on cavity lid equal to 1\n",
    "        v[0, :] = 0\n",
    "        v[-1, :]=0\n",
    "        v[:, 0] = 0\n",
    "        v[:, -1] = 0\n",
    "        \n",
    "        \n",
    "    return u, v, p"
   ]
  },
  {
   "cell_type": "code",
   "execution_count": 54,
   "metadata": {},
   "outputs": [],
   "source": [
    "def build_up_b_pyccel(b : 'float[:,:]', rho : float, dt : float, u : 'float[:,:]', v : 'float[:,:]', dx : float, dy : float):\n",
    "    #$omp parallel\n",
    "    b[1:-1, 1:-1] = (rho * (1 / dt * \n",
    "                    ((u[1:-1, 2:] - u[1:-1, 0:-2]) / \n",
    "                     (2 * dx) + (v[2:, 1:-1] - v[0:-2, 1:-1]) / (2 * dy)) -\n",
    "                    ((u[1:-1, 2:] - u[1:-1, 0:-2]) / (2 * dx))**2 -\n",
    "                      2 * ((u[2:, 1:-1] - u[0:-2, 1:-1]) / (2 * dy) *\n",
    "                           (v[1:-1, 2:] - v[1:-1, 0:-2]) / (2 * dx))-\n",
    "                          ((v[2:, 1:-1] - v[0:-2, 1:-1]) / (2 * dy))**2))\n",
    "    #$omp end parallel\n",
    "    return 0\n",
    "build_up_b = epyccel(build_up_b_pyccel,language = 'c',accelerators=['openmp'])"
   ]
  },
  {
   "cell_type": "code",
   "execution_count": 57,
   "metadata": {},
   "outputs": [],
   "source": [
    "def pressure_poisson_pyccel(p : 'float[:,:]', dx : float, dy : float, b : 'float[:,:]',nit:int):\n",
    "    import numpy as np\n",
    "    pn = np.empty_like(p)\n",
    "    pn[:,:] = p[:,:]\n",
    "    #$omp parallel\n",
    "    #$omp for\n",
    "    for q in range(nit):\n",
    "        pn[:,:] = p[:,:]\n",
    "        p[1:-1, 1:-1] = (((pn[1:-1, 2:] + pn[1:-1, 0:-2]) * dy**2 + \n",
    "                          (pn[2:, 1:-1] + pn[0:-2, 1:-1]) * dx**2) /\n",
    "                          (2 * (dx**2 + dy**2)) -\n",
    "                          dx**2 * dy**2 / (2 * (dx**2 + dy**2)) * \n",
    "                          b[1:-1,1:-1])\n",
    "    \n",
    "        p[:, -1] = p[:, -2] ##dp/dy = 0 at x = 2\n",
    "        p[0, :] = p[1, :]  ##dp/dy = 0 at y = 0\n",
    "        p[:, 0] = p[:, 1]    ##dp/dx = 0 at x = 0\n",
    "        p[-1, :] = 0        ##p = 0 at y = 2\n",
    "    #$omp end parallel    \n",
    "    return 0\n",
    "pressure_poisson = epyccel(pressure_poisson_pyccel,language = 'c',accelerators=['openmp'])"
   ]
  },
  {
   "cell_type": "code",
   "execution_count": 66,
   "metadata": {},
   "outputs": [],
   "source": [
    "def cavity_flow_pyccel(nit:int,nx : int, ny : int,nt : int, u : 'float[:,:]', v : 'float[:,:]', dt : float, dx : float, dy : float, p : 'float[:,:]', rho : float, nu : int):\n",
    "    import numpy as np\n",
    "    un = np.empty_like(u)\n",
    "    vn = np.empty_like(v)\n",
    "    b = np.zeros((ny, nx))\n",
    "    #$omp parallel\n",
    "    #$omp for\n",
    "    for n in range(nt):\n",
    "        un[:,:] = u[:,:]\n",
    "        vn[:,:] = v[:,:]\n",
    "        \n",
    "        build_up_b(b, rho, dt, u, v, dx, dy)\n",
    "        pressure_poisson(p, dx, dy, b,nit)\n",
    "        \n",
    "        u[1:-1, 1:-1] = (un[1:-1, 1:-1]-\n",
    "                         un[1:-1, 1:-1] * dt / dx *\n",
    "                        (un[1:-1, 1:-1] - un[1:-1, 0:-2]) -\n",
    "                         vn[1:-1, 1:-1] * dt / dy *\n",
    "                        (un[1:-1, 1:-1] - un[0:-2, 1:-1]) -\n",
    "                         dt / (2 * rho * dx) * (p[1:-1, 2:] - p[1:-1, 0:-2]) +\n",
    "                         nu * (dt / dx**2 *\n",
    "                        (un[1:-1, 2:] - 2 * un[1:-1, 1:-1] + un[1:-1, 0:-2]) +\n",
    "                         dt / dy**2 *\n",
    "                        (un[2:, 1:-1] - 2 * un[1:-1, 1:-1] + un[0:-2, 1:-1])))\n",
    "\n",
    "        v[1:-1,1:-1] = (vn[1:-1, 1:-1] -\n",
    "                        un[1:-1, 1:-1] * dt / dx *\n",
    "                       (vn[1:-1, 1:-1] - vn[1:-1, 0:-2]) -\n",
    "                        vn[1:-1, 1:-1] * dt / dy *\n",
    "                       (vn[1:-1, 1:-1] - vn[0:-2, 1:-1]) -\n",
    "                        dt / (2 * rho * dy) * (p[2:, 1:-1] - p[0:-2, 1:-1]) +\n",
    "                        nu * (dt / dx**2 *\n",
    "                       (vn[1:-1, 2:] - 2 * vn[1:-1, 1:-1] + vn[1:-1, 0:-2]) +\n",
    "                        dt / dy**2 *\n",
    "                       (vn[2:, 1:-1] - 2 * vn[1:-1, 1:-1] + vn[0:-2, 1:-1])))\n",
    "        #$omp end parallel\n",
    "        u[0, :] = 0\n",
    "        u[:, 0] = 0\n",
    "        u[:, -1] = 0\n",
    "        u[-1, :] = 1    #set velocity on cavity lid equal to 1\n",
    "        v[0, :] = 0\n",
    "        v[-1, :]=0\n",
    "        v[:, 0] = 0\n",
    "        v[:, -1] = 0\n",
    "        \n",
    "        \n",
    "    return u, v, p"
   ]
  },
  {
   "cell_type": "code",
   "execution_count": null,
   "metadata": {},
   "outputs": [],
   "source": [
    "navier_stock = epyccel(cavity_flow_pyccel,language = 'c',accelerators=['openmp'])"
   ]
  },
  {
   "cell_type": "code",
   "execution_count": 68,
   "metadata": {},
   "outputs": [
    {
     "data": {
      "image/png": "[encoded data removed]",
      "text/plain": [
       "<Figure size 500x300 with 2 Axes>"
      ]
     },
     "metadata": {
      "needs_background": "light"
     },
     "output_type": "display_data"
    }
   ],
   "source": [
    "nx = 41\n",
    "ny = 41\n",
    "nt = 500\n",
    "nit = 50\n",
    "c = 1.0\n",
    "dx = 2 / (nx - 1)\n",
    "dy = 2 / (ny - 1)\n",
    "x = np.linspace(0, 2, nx)\n",
    "y = np.linspace(0, 2, ny)\n",
    "X, Y = np.meshgrid(x, y)\n",
    "\n",
    "rho = 1.0\n",
    "nu = .1\n",
    "dt = .001\n",
    "\n",
    "u = np.zeros((ny, nx))\n",
    "v = np.zeros((ny, nx))\n",
    "p = np.zeros((ny, nx)) \n",
    "b = np.zeros((ny, nx))\n",
    "\n",
    "u, v, p = cavity_flow_pyccel(nit,nx,ny,nt, u, v, dt, dx, dy, p, rho, nu)\n",
    "\n",
    "fig = pyplot.figure(figsize=(5, 3), dpi=100)\n",
    "pyplot.contourf(X, Y, p, alpha=0.5, cmap=cm.viridis)\n",
    "pyplot.colorbar()\n",
    "pyplot.contour(X, Y, p, cmap=cm.viridis)\n",
    "pyplot.quiver(X[::2, ::2], Y[::2, ::2], u[::2, ::2], v[::2, ::2])\n",
    "pyplot.xlabel('X')\n",
    "pyplot.ylabel('Y');"
   ]
  }
 ],
 "metadata": {
  "kernelspec": {
   "display_name": "Python 3",
   "language": "python",
   "name": "python3"
  },
  "language_info": {
   "codemirror_mode": {
    "name": "ipython",
    "version": 3
   },
   "file_extension": ".py",
   "mimetype": "text/x-python",
   "name": "python",
   "nbconvert_exporter": "python",
   "pygments_lexer": "ipython3",
   "version": "3.8.13"
  }
 },
 "nbformat": 4,
 "nbformat_minor": 5
}
