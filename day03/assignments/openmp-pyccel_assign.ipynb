{
 "cells": [
  {
   "cell_type": "markdown",
   "metadata": {},
   "source": [
    "*Note: all those exercises should be done using python with pyccel openmp*"
   ]
  },
  {
   "cell_type": "markdown",
   "metadata": {},
   "source": [
    "## Exercise 1 Hello World\n",
    "\n",
    "1. Write an OpenMP program displaying the number of threads used for the execution and the rank of each of the threads.\n",
    "3. Test the programs obtained with different numbers of threads for the parallel program.\n",
    "\n",
    "**Output Example**\n",
    "```shell\n",
    ">> Python hello.py\n",
    "Hello from the rank 2 thread\n",
    "Hello from the rank 0 thread\n",
    "Hello from the rank 3 thread\n",
    "Hello from the rank 1 thread\n",
    "Hello from the rank 4 thread\n",
    "Parallel execution of hello_world with 4 threads\n",
    "```\n",
    "*Note that the output order maybe different*"
   ]
  },
  {
   "cell_type": "code",
   "execution_count": 5,
   "metadata": {
    "scrolled": true
   },
   "outputs": [
    {
     "name": "stdout",
     "output_type": "stream",
     "text": [
      "Overwriting hello.py\n"
     ]
    }
   ],
   "source": [
    "%%file hello.py\n",
    "import pyccel\n",
    "if __name__ == \"__main__\" :\n",
    "    from pyccel.stdlib.internal.openmp import omp_in_parallel,omp_get_thread_num, omp_get_num_threads\n",
    "    #$omp parallel\n",
    "    n = omp_get_num_threads()\n",
    "    p = omp_get_thread_num()\n",
    "    print(\"hello from the rank \",p,\" thread\")\n",
    "    #$omp end parallel"
   ]
  },
  {
   "cell_type": "code",
   "execution_count": null,
   "metadata": {},
   "outputs": [],
   "source": [
    "# enter command for compile and run the program\n",
    "#pyccel --language=c hello.py --openmp\n",
    "#export OMP_NUM_THREADS=3\n",
    "#./hello"
   ]
  },
  {
   "cell_type": "markdown",
   "metadata": {},
   "source": [
    "The result : \n",
    "\n",
    "[zaineb.afkhkhar@frontend02 ~]$ ./hello\n",
    "\n",
    "hello from the rank  1  thread\n",
    "\n",
    "hello from the rank  1  thread\n",
    "\n",
    "hello from the rank  1  thread\n",
    "\n",
    "hello from the rank  2  thread\n",
    "\n",
    "hello from the rank  0  thread"
   ]
  },
  {
   "cell_type": "markdown",
   "metadata": {},
   "source": [
    "## Exercise 2 Matrix product\n",
    "\n",
    "Considering the following code for matrix product:\n",
    "\n",
    "1. Using pyccel, epyccelize the `matrix_prod` function, and time the execution of epyccelized function.\n",
    "2. Insert the appropriate OpenMP directives and analyse the code performance.\n",
    "3. Test the loop iteration repartition modes (`STATIC`, `DYNAMIC`, `GUIDED`) and vary the chunk sizes.\n",
    "**Example output**\n",
    "\n",
    "```bash\n",
    "   Value of M and N           : 20 20 \n",
    "    Temps elapsed              : 0.0009012222290039062 \n",
    "    Temps CPU                  : 0.0 \n",
    "    Partiel results            : 2790.0 2690.0 ... -3610.0 -4350.0 \n",
    "\n",
    " Execution of Matrix production in parallele with                     8 threads\n",
    "```"
   ]
  },
  {
   "cell_type": "code",
   "execution_count": 2,
   "metadata": {},
   "outputs": [
    {
     "name": "stdout",
     "output_type": "stream",
     "text": [
      "Writing matrix_prod_file.py\n"
     ]
    }
   ],
   "source": [
    "%%file matrix_prod_file.py\n",
    "#import time\n",
    "def matrix_prod(A : 'float[:,:]', B : 'float[:,:]', C : 'float[:,:]', N : int, M : int):\n",
    "    from pyccel.stdlib.internal.openmp import omp_in_parallel,omp_get_thread_num, omp_get_num_threads\n",
    "\n",
    "    n = 0\n",
    "    #$omp parallel\n",
    "    \n",
    "    #$omp for collapse(2)\n",
    "    for i in range( M ):\n",
    "        for j in range( N ):\n",
    "            A[ i, j ] = (i + 1) + (j + 1)\n",
    "\n",
    "    #$omp for collapse(2)\n",
    "    for i in range( N ):\n",
    "        for j in range( M ):\n",
    "            B[ i, j ] = (i + 1) - (j + 1)\n",
    "\n",
    "    #$omp for\n",
    "    for i in range( M ):\n",
    "        for j in range( M ):\n",
    "            C[ i, j ] = 0\n",
    "    # ...\n",
    "\n",
    "    # Matrix Production\n",
    "    #$omp for collapse(3)\n",
    "    for i in range( M ):\n",
    "        for j in range( M ):\n",
    "            for k in range( N ):\n",
    "                C[ i, j ] += A[ i, k ] * B[ k, j ]\n",
    "    \n",
    "    #     print(\"Execution of Matrix production in parallele with\",nb_threads, \"threads\")\n",
    "    n = omp_get_num_threads()\n",
    "    \n",
    "    #$omp end parallel \n",
    "    print('Values of M and N :    ',M,N)\n",
    "    #print('execution time : ',end-start)\n",
    "    print(\"Execution of Matrix production in parallele with\",n, \"threads\")\n",
    "    print(\"Partial result : \",C[:3,:3])\n",
    "    #return C\n",
    "    "
   ]
  },
  {
   "cell_type": "code",
   "execution_count": 3,
   "metadata": {},
   "outputs": [
    {
     "name": "stdout",
     "output_type": "stream",
     "text": [
      "Writing test_matrix_prod.py\n"
     ]
    }
   ],
   "source": [
    "%%file test_matrix_prod.py\n",
    "import numpy as np\n",
    "\n",
    "M = 20\n",
    "N = 20\n",
    "\n",
    "\n",
    "from pyccel.epyccel import epyccel\n",
    "from matrix_prod_file import matrix_prod\n",
    "import time\n",
    "#p_matrix_prod = epyccel(matrix_prod, language='c', accelerators=['openmp'])\n",
    "\n",
    "A = np.empty((M, N), dtype=np.double)\n",
    "B = np.empty((N, M), dtype=np.double)\n",
    "C = np.empty((M, M), dtype=np.double)\n",
    "\n",
    "# start timing\n",
    "tcpu_0 = time.process_time() # CPU time\n",
    "t_elapsed_0 = time.time()    # Wall time\n",
    "\n",
    "# -------------------- computing ------------------\n",
    "\n",
    "matrix_prod(A,B,C,M,N)\n",
    "\n",
    "# ------------------ End computing ----------------\n",
    "\n",
    "# CPU time spent\n",
    "tcpu_1 = time.process_time()\n",
    "tcpu = tcpu_1 - tcpu_0\n",
    "\n",
    "# Wall time spent\n",
    "t_elapsed_1 = time.time()\n",
    "t_elapsed = t_elapsed_1 - t_elapsed_0\n",
    "\n",
    "\n",
    "# Print result\n",
    "print(\n",
    "  \"   Temps elapsed              :\", t_elapsed, \"\\n\",\n",
    "  \"   Temps CPU                  :\", tcpu,      \"\\n\",\n",
    ")"
   ]
  },
  {
   "cell_type": "markdown",
   "metadata": {},
   "source": [
    "Result with 3 threads : \n",
    "    \n",
    "    Values of M and N :     20 20\n",
    "    Execution of Matrix production in parallele with 3 threads\n",
    "    Partial result :  [[2850.000000000000 2620.000000000000 2390.000000000000]\n",
    "    [3040.000000000000 2790.000000000000 2540.000000000000]\n",
    "    [3230.000000000000 2960.000000000000 2690.000000000000]]\n",
    "    Temps elapsed              : 0.00016570091247558594 \n",
    "    Temps CPU                  : 0.00023868000000004663"
   ]
  },
  {
   "cell_type": "markdown",
   "metadata": {},
   "source": [
    "## Exercise 3 Jacobi method\n",
    "\n",
    "Considering the following code for a general linear system solver:\n",
    "\n",
    "$$ A \\times x = b $$\n",
    "\n",
    "using the Jacobi iterative method.\n",
    "In this exercice, you must solve the system in parallel\n",
    "   \n",
    "**Example Output**\n",
    "    \n",
    "```bash\n",
    "System size    : 20 \n",
    " Iterations     : 21 \n",
    " Stand          : 2.9100049961372497e-08 \n",
    " Elapsed Time   : 7.447303771972656 \n",
    " CPU time       : 0.921875 \n",
    "```"
   ]
  },
  {
   "cell_type": "code",
   "execution_count": 23,
   "metadata": {},
   "outputs": [
    {
     "name": "stdout",
     "output_type": "stream",
     "text": [
      "Overwriting jacobi_file.py\n"
     ]
    }
   ],
   "source": [
    "%%file jacobi_file.py\n",
    "def jacobi(a : 'float[:,:]', b : 'float[:]', x : 'float[:]', n : int, eps : float):\n",
    "\n",
    "#     print(\"Execution of Jacobi in parallel with\", nb_tasks, \"threads\")\n",
    "    # Jacobi method resolution\n",
    "    import numpy as np\n",
    "    import math\n",
    "    x_courant = np.empty(n, dtype=np.double)\n",
    "    iteration = 0\n",
    "    #$omp parallel \n",
    "    while(1):\n",
    "        iteration += 1\n",
    "        #$omp for\n",
    "        for i in range(n):\n",
    "            x_courant[i] = 0\n",
    "            for j in range(i):\n",
    "                x_courant[i] += a[ j, i ] * x[j]\n",
    "\n",
    "            for j in range(i + 1, n):\n",
    "                x_courant[i] += a[ j, i ] * x[j]\n",
    "\n",
    "            x_courant[i] = (b[i] - x_courant[i]) / a[ i, i ]\n",
    "\n",
    "        # Convergence test\n",
    "        absmax = 0.\n",
    "        #$omp for \n",
    "        for i in range(n):\n",
    "            curr = math.fabs(x[i] - x_courant[i])\n",
    "            if curr > absmax:\n",
    "                absmax = curr\n",
    "        stand = absmax / n\n",
    "        if stand <= eps or iteration > n:\n",
    "            break\n",
    "\n",
    "        # copy x_courant into x\n",
    "        #$omp for\n",
    "        for i in range(n):\n",
    "            x [i] = x_courant[i]\n",
    "        #$omp end parallel\n",
    "    return stand, iteration\n",
    "    \n"
   ]
  },
  {
   "cell_type": "code",
   "execution_count": 26,
   "metadata": {},
   "outputs": [
    {
     "name": "stdout",
     "output_type": "stream",
     "text": [
      "The result with 1 thread : \n",
      "System size    :               20 \n",
      " Iterations     :               23 \n",
      " Stand          :               0.0019619278174647374 \n",
      " Elapsed Time   :               0.03737998008728027 \n",
      " CPU time       :               0.08643259800000003 \n",
      "\n"
     ]
    }
   ],
   "source": [
    "#%%file test_jacobi.py\n",
    "if __name__ == \"__main__\":\n",
    "\n",
    "    import numpy as np\n",
    "    import time, random, math, sys\n",
    "    from jacobi_file import jacobi\n",
    "    # Matrix default dimension\n",
    "    n = 20\n",
    "    diag = 20\n",
    "\n",
    "    # Initialize of the matrices\n",
    "    np.random.seed(421)  # for reproductibles results\n",
    "    a = np.random.uniform(0, 1, size=(n, n))\n",
    "    b = np.random.uniform(0, 1, size=n)\n",
    "\n",
    "    # We strengthen the main diagonal of the matrix\n",
    "    for i in range(n):\n",
    "        a[ i, i ] += diag\n",
    "\n",
    "    # Initial solution\n",
    "    x = np.ones(n, dtype=np.double)\n",
    "\n",
    "    # start CPU timing\n",
    "    cpu_0 = time.process_time()\n",
    "\n",
    "    # start Wall timing\n",
    "    elapsed_0 = time.time()\n",
    "    \n",
    "    # Pyccelize jacobi function\n",
    "    #from pyccel.epyccel import epyccel\n",
    "    #p_jacobi = epyccel(jacobi, language='c', accelerators=['openmp'])\n",
    "\n",
    "    eps = sys.float_info.epsilon\n",
    "\n",
    "    # -------------------- computing ------------------\n",
    "    stand, iteration = jacobi(a, b, x, n, eps)\n",
    "    # ------------------ End computing ----------------\n",
    "\n",
    "    # CPU time\n",
    "    cpu_1 = time.process_time()\n",
    "    cpu = cpu_1 - cpu_0\n",
    "\n",
    "    # Wall timing\n",
    "    elapsed_1 = time.time()\n",
    "    elapsed = elapsed_1 - elapsed_0\n",
    "\n",
    "    print(\n",
    "        \"The result with 1 thread : \\n\"\n",
    "        \"System size    :              \", n,          '\\n',\n",
    "        \"Iterations     :              \", iteration,  '\\n',\n",
    "        \"Stand          :              \", stand,      '\\n',\n",
    "        \"Elapsed Time   :              \", elapsed,    '\\n',\n",
    "        \"CPU time       :              \", cpu,        '\\n'\n",
    "    )"
   ]
  },
  {
   "cell_type": "markdown",
   "metadata": {},
   "source": [
    "Result with 3 Threads : \n",
    "\n",
    "System size    :               20 \n",
    "\n",
    "Iterations     :               22 \n",
    "\n",
    "Stand          :               0.00020231066742798406 \n",
    "\n",
    "Elapsed Time   :               0.012328863143920898 \n",
    "\n",
    "CPU time       :               0.049059231000000036 "
   ]
  },
  {
   "cell_type": "markdown",
   "metadata": {},
   "source": [
    "## Exercise 4 Calculation of π\n",
    "\n",
    "The aim of this exercise is to calculate π by numerical integration knowing that Considering the following code for matrix product: $\\int_{0}^{1} \\frac{4}{1 + x^2} = {\\pi} $\n",
    "\n",
    "The following program is for calculating the value of\n",
    "π by the rectangle method (mid-point). Let $f(x) = \\frac{4}{1 + x^2} $\n",
    "2 be the function to integrate, N and $ h = \\frac{1}{N} $ (respectively) the number of points, and the discretization width on the integration\n",
    "interval $[0, 1]$.\n",
    "\n",
    "Analyse the performance of the codes, then optimise  your code using OpenMP directives."
   ]
  },
  {
   "cell_type": "code",
   "execution_count": 2,
   "metadata": {},
   "outputs": [
    {
     "name": "stdout",
     "output_type": "stream",
     "text": [
      "Overwriting pi.py\n"
     ]
    }
   ],
   "source": [
    "%%file pi.py\n",
    "def f(a : float):\n",
    "    return 4.0 / (1. + a * a)\n",
    "\n",
    "def pi(n : int, h : float):\n",
    "#     print(\"Execution of PI in parallel with\", nb_tasks,\"threads\")\n",
    "    #$omp parallel\n",
    "    #$omp for \n",
    "    for k in range(100):\n",
    "        Pi_calc = 0.\n",
    "        \n",
    "        for i in range(n):\n",
    "            x = h * (i + 0.5)\n",
    "            Pi_calc += f(x)\n",
    "\n",
    "        Pi_calc = h * Pi_calc\n",
    "    #$omp end parallel\n",
    "    return Pi_calc\n"
   ]
  },
  {
   "cell_type": "code",
   "execution_count": 28,
   "metadata": {},
   "outputs": [
    {
     "name": "stdout",
     "output_type": "stream",
     "text": [
      "   Number of intervals        : 300 \n",
      "    | Pi_estime - Pi_calcule | : 9.259259248217688e-07 \n",
      "    Temps elapsed              : 0.0022835731506347656 \n",
      "    Temps CPU                  : 0.006690876999999595 \n",
      "\n"
     ]
    }
   ],
   "source": [
    "##%%file test_pi.py\n",
    "import time, math\n",
    "\n",
    "if __name__ == '__main__':\n",
    "    #                  __\n",
    "    #  But : calcul de || par la methode des rectangles (point milieu).\n",
    "    #\n",
    "    #                   / 1\n",
    "    #                  |       4            __\n",
    "    #                  |   ----------  dx = ||\n",
    "    #                  |    1 + x**2\n",
    "    #                 / 0\n",
    "\n",
    "\n",
    "    n = 300\n",
    "\n",
    "    # Length of the integration interval\n",
    "    h = 1.0 / n\n",
    "\n",
    "    from pyccel.epyccel import epyccel\n",
    "    import pi\n",
    "    pyc_pi = epyccel(pi, language='c', accelerators=['openmp'])\n",
    "\n",
    "    # start timing\n",
    "    tcpu_0 = time.process_time() # CPU time\n",
    "    t_elapsed_0 = time.time()    # Wall time\n",
    "\n",
    "    # -------------------- computing ------------------\n",
    "\n",
    "    Pi_calc = pyc_pi.pi(n, h)\n",
    "\n",
    "    # ------------------ End computing ----------------\n",
    "\n",
    "    # CPU time spent\n",
    "    tcpu_1 = time.process_time()\n",
    "    tcpu = tcpu_1 - tcpu_0\n",
    "\n",
    "    # Wall time spent\n",
    "    t_elapsed_1 = time.time()\n",
    "    t_elapsed = t_elapsed_1 - t_elapsed_0\n",
    "\n",
    "    # deviation between the estimated value and the calculated value of Pi\n",
    "    Pi_estime = math.acos(-1)\n",
    "    deviat = math.fabs(Pi_estime - Pi_calc)\n",
    "\n",
    "    # Print result\n",
    "    print(\n",
    "      \"   Number of intervals        :\", n,         \"\\n\",\n",
    "\t  \"   | Pi_estime - Pi_calcule | :\", deviat,    \"\\n\",\n",
    "\t  \"   Temps elapsed              :\", t_elapsed, \"\\n\",\n",
    "\t  \"   Temps CPU                  :\", tcpu,      \"\\n\",\n",
    "    )"
   ]
  },
  {
   "cell_type": "markdown",
   "metadata": {},
   "source": [
    "  The result using 3 threads : \n",
    "        \n",
    "    Number of intervals        : 300 \n",
    "    \n",
    "    | Pi_estime - Pi_calcule | : 3.1231010208694916 \n",
    "    \n",
    "    Temps elapsed              : 0.0003383159637451172 \n",
    "    \n",
    "    Temps CPU                  : 0.0003401329999999092"
   ]
  },
  {
   "cell_type": "markdown",
   "metadata": {},
   "source": [
    "## Exercise 5 Reduction of an array\n",
    "\n",
    "The given program contained in the `reduction_tab.py` file is extracted from a chemistry code. It reduces a three-dimensional array into a vector. The aim of this exercise is to parallelize this calculation kernel without changing the loop order in the provided code (i.e. k,j,i)\n",
    "\n",
    "1. Analyse the data-sharing attributes of the variables and adapt the source code so that the K outermost loop is parallelized.\n",
    "2. Compare the performance obtained by using the thread/core binding default execution on Ada and by using scatter binding. Suggest an explanation for the poor performance of the latter.\n",
    "3. Optimise the source code for the scatter mode with taking into account the memory affinity. Why does this third series of executions give the best performance "
   ]
  },
  {
   "cell_type": "code",
   "execution_count": 1,
   "metadata": {},
   "outputs": [
    {
     "name": "stdout",
     "output_type": "stream",
     "text": [
      "Overwriting reduction_tab_file.py\n"
     ]
    }
   ],
   "source": [
    "%%file reduction_tab_file.py\n",
    "from pyccel.stdlib.internal.openmp import omp_in_parallel,omp_get_thread_num, omp_get_num_threads\n",
    "def threads_num():\n",
    "#     complete this function for getting threads num\n",
    "    n = omp_get_num_threads()\n",
    "    return n \n",
    "\n",
    "def initialize_table(tab : 'float[:,:,:]', nmolec : int, n : int, nmol : int):\n",
    "    # Initialisation du tableau\n",
    "    # First-touch pour garantir un fonctionnement optimal sur les systemes NUMA\n",
    "    #$omp parallel\n",
    "    #$omp for collapse(3)\n",
    "    for k in range(nmolec):\n",
    "        for j in range(n):\n",
    "            for i in range(nmol):\n",
    "                tab[ i,j,k ] = i + j + k\n",
    "    #$omp end parallel\n",
    "def reduction(tab : 'float[:,:,:]', tab1 :  'float[:]', tab2 : 'float[:]', nmolec : int, nmol : int, n : int):\n",
    "    #$omp parallel \n",
    "    #$omp for\n",
    "    for k in range(nmolec):\n",
    "        tab1[:nmol] = 0\n",
    "        for j in range(n):\n",
    "            for i in range(nmol):\n",
    "                tab1[i] = tab1[i] + tab[i,j,k]\n",
    "        tab2[:nmol] = tab2[:nmol] + 2 * tab1[:nmol]\n",
    "    #$omp end parallel "
   ]
  },
  {
   "cell_type": "code",
   "execution_count": 9,
   "metadata": {
    "scrolled": true
   },
   "outputs": [
    {
     "name": "stdout",
     "output_type": "stream",
     "text": [
      "Temps elapsed  : 0.0021636486053466797 \n",
      " Temps CPU      : 0.006433845000000105 \n",
      " Erreur relative: 0.0841948051948052 \n",
      "\n"
     ]
    }
   ],
   "source": [
    "##%%file reduction_tab_test.py\n",
    "from os import error\n",
    "\n",
    "if __name__ == '__main__':\n",
    "    import numpy as np\n",
    "    import time\n",
    "    from reduction_tab_file import threads_num,initialize_table, reduction\n",
    "    # default dimension\n",
    "    nmolec = 100\n",
    "    nmol   = 100\n",
    "    n      = 10\n",
    "\n",
    "    tab     = np.empty((nmol, n, nmolec), dtype=np.double)\n",
    "    tab1    = np.empty((nmol), dtype=np.double)\n",
    "    tab2    = np.zeros((nmol), dtype=np.double)\n",
    "\n",
    "    # pyccelize reduction tab module\n",
    "    #from pyccel.epyccel import epyccel\n",
    "    #from reduction_tab_file import threads_num, initialize_table, reduction\n",
    "    \n",
    "    #reduction = epyccel(reduction_tab, language='fortran', accelerators=['openmp'])\n",
    "    \n",
    "#     print(\"Execution of reduction table in parallele with\", reduction.threads_num, \"threads\")\n",
    "\n",
    "    # initialize tab \n",
    "    initialize_table(tab, nmol, n, nmolec)\n",
    "\n",
    "    # start timing\n",
    "    tcpu_0 = time.process_time() # CPU time\n",
    "    t_elapsed_0 = time.time()    # Wall time\n",
    "\n",
    "    # -------------------- computing ------------------\n",
    "    reduction(tab, tab1, tab2, nmolec, nmol, n)\n",
    "    # ------------------ End computing ----------------\n",
    "\n",
    "    # CPU time spent\n",
    "    tcpu_1 = time.process_time()\n",
    "    tcpu = tcpu_1 - tcpu_0\n",
    "\n",
    "    # Wall time spent\n",
    "    t_elapsed_1 = time.time()\n",
    "    t_elapsed = t_elapsed_1 - t_elapsed_0\n",
    "\n",
    "    # verification of results\n",
    "    tab2c = np.zeros((nmol), dtype=np.double)\n",
    "    for k in range(nmolec):\n",
    "        tab1c = np.zeros((nmol), dtype=np.double)\n",
    "        for j in range(n):\n",
    "            for i in range(nmol):\n",
    "                tab1c[i] = tab1c[i] + tab[i, j, k]\n",
    "        tab2c [:] = tab2c[:nmol] + 2 * tab1c[:]\n",
    "    err = np.max(np.abs(tab2c - tab2) / np.abs(tab2c))\n",
    "    print(\n",
    "        \"Temps elapsed  :\", t_elapsed   , \"\\n\",\n",
    "        \"Temps CPU      :\", tcpu        , \"\\n\",\n",
    "        \"Erreur relative:\", err         , \"\\n\"\n",
    "    )"
   ]
  },
  {
   "cell_type": "markdown",
   "metadata": {},
   "source": [
    "The result using 3 threads : \n",
    "    \n",
    "Temps elapsed  : 0.00014472007751464844 \n",
    "\n",
    "Temps CPU      : 0.00014827200000011587 \n",
    "\n",
    "Erreur relative: 0.3123676470588235"
   ]
  },
  {
   "cell_type": "markdown",
   "metadata": {},
   "source": [
    "# Exercise 6 Matrix product by the Strassen algorithm\n",
    "\n",
    "Considering the following code that calculates the matrix product :\n",
    "\n",
    "$$C = A \\times B$$\n",
    "\n",
    "by using Strassen’s recursive algorithm.\n",
    "\n",
    "In this exercise, you must :\n",
    "1. Analyse and parallelize the code by using OpenMP tasks.\n",
    "2. Measure the code performance and plot the speedup curves obtained."
   ]
  },
  {
   "cell_type": "code",
   "execution_count": 21,
   "metadata": {},
   "outputs": [
    {
     "name": "stdout",
     "output_type": "stream",
     "text": [
      "Overwriting strassen_product_file.py\n"
     ]
    }
   ],
   "source": [
    "%%file strassen_product_file.py\n",
    "import math\n",
    "import numpy as np\n",
    "from pyccel.stdlib.internal.openmp import omp_in_parallel,omp_get_thread_num, omp_get_num_threads\n",
    "def threads_num():\n",
    "#     complete this function for getting threads num\n",
    "    n = omp_get_num_threads()\n",
    "    return n \n",
    "\n",
    "\n",
    "def strassen_multiply(A : 'float[:,:]', B : 'float[:,:]', C : 'float[:,:]', n : int) :\n",
    "    n2 = n // 2\n",
    "    A11 = A[ 0:n2, 0:n2 ]\n",
    "    A21 = A[ n2:n, 0:n2 ]\n",
    "    A12 = A[ 0:n2, n2:n ]\n",
    "    A22 = A[ n2:n, n2:n ]\n",
    "    B11 = B[ 0:n2, 0:n2 ]\n",
    "    B21 = B[ n2:n, 0:n2 ]\n",
    "    B12 = B[ 0:n2, n2:n ]\n",
    "    B22 = B[ n2:n, n2:n ]\n",
    "\n",
    "    Q1 = np.zeros((n2, n2), dtype=np.double)\n",
    "    Q2 = np.zeros((n2, n2), dtype=np.double)\n",
    "    Q3 = np.zeros((n2, n2), dtype=np.double)\n",
    "    Q4 = np.zeros((n2, n2), dtype=np.double)\n",
    "    Q5 = np.zeros((n2, n2), dtype=np.double)\n",
    "    Q6 = np.zeros((n2, n2), dtype=np.double)\n",
    "    Q7 = np.zeros((n2, n2), dtype=np.double)\n",
    "        \n",
    "    #$omp parallel\n",
    "    if n & 1 != 0  or n < 128:\n",
    "        C[:] = np.matmul(A, B)\n",
    "    else:\n",
    "        \n",
    "        strassen_multiply(A11+A22, B11+B22, Q1, n2)\n",
    "        strassen_multiply(A21+A22, B11, Q2, n2)\n",
    "        strassen_multiply(A11, B12-B22, Q3, n2)\n",
    "        strassen_multiply(A22, -B11+B21, Q4, n2) \n",
    "        strassen_multiply(A11+A12, B22, Q5, n2)\n",
    "        strassen_multiply(-A11+A21, B11+B12, Q6, n2)\n",
    "        strassen_multiply(A12-A22, B21+B22, Q7, n2)\n",
    "        C[   :n2,   :n2 ] = Q1+Q4-Q5+Q7\n",
    "        C[ n2: n,   :n2 ] = Q2+Q4\n",
    "        C[   :n2, n2:n  ] = Q3+Q5\n",
    "        C[ n2:n , n2:n  ] = Q1+Q3-Q2+Q6\n",
    "    #$omp end parallel\n",
    "\n",
    "def calcul_erreur(n : int, A : 'float[:,:]', B : 'float[:,:]', C : 'float[:,:]'):\n",
    "    D = np.matmul(A, B) \n",
    "    error = 0.0\n",
    "    #$omp parallel\n",
    "    #$omp for collapse(2)\n",
    "    for i in range(n):\n",
    "        for j in range(n):\n",
    "            e = C[ i, j ] - D[ i, j ]\n",
    "            error += e * e\n",
    "\n",
    "    error = math.sqrt(error) / n\n",
    "    #$omp end parallel\n",
    "    return error\n",
    "\n"
   ]
  },
  {
   "cell_type": "code",
   "execution_count": 13,
   "metadata": {},
   "outputs": [
    {
     "name": "stdout",
     "output_type": "stream",
     "text": [
      "Execution of Strassen in parallele with 1 threads\n",
      "   Erreur        : 1.1543169435239852e-06 \n",
      "    Temps elapsed : 0.017098665237426758 \n",
      "    Temps CPU     : 0.037175079999999916 \n",
      "\n"
     ]
    }
   ],
   "source": [
    "#%%file strasse_prod_test.py\n",
    "\n",
    "if __name__ == '__main__':\n",
    "    import  math\n",
    "    import numpy as np\n",
    "    import time\n",
    "    from pyccel.stdlib.internal.openmp import omp_in_parallel,omp_get_thread_num, omp_get_num_threads\n",
    "    n = 256\n",
    "\n",
    "    # Initialize Matrices\n",
    "    \n",
    "    np.random.seed(421)\n",
    "    A = np.random.uniform(0, 1, (n, n))\n",
    "    B = np.random.uniform(0, 1, (n, n))\n",
    "    C = np.empty((n,n), dtype=np.double)\n",
    "    from strassen_product_file import threads_num, strassen_multiply, calcul_erreur\n",
    "    #from pyccel.epyccel import epyccel\n",
    "    #strassen = epyccel(strassen_multiply, accelerators=['openmp'])\n",
    "    #num_threads = epyccel(threads_num, accelerators=['openmp'])\n",
    "    print(\"Execution of Strassen in parallele with\", threads_num(), \"threads\")\n",
    "    \n",
    "    \n",
    "    # Start timing\n",
    "    tcpu_0 = time.process_time() # CPU time\n",
    "    t_elapsed_0 = time.time()    # Wall time\n",
    "    # -------------------- computing ------------------\n",
    "    # Calcul C=A*B par la methode recursive de Strassen\n",
    "\n",
    "    \n",
    "    strassen_multiply(A, B, C, n)\n",
    "    # ------------------ end computing ----------------\n",
    "    # CPU time spent\n",
    "    tcpu_1 = time.process_time()\n",
    "    tcpu = tcpu_1 - tcpu_0\n",
    "\n",
    "    # Wall time spent\n",
    "    t_elapsed_1 = time.time()\n",
    "    t_elapsed = t_elapsed_1 - t_elapsed_0\n",
    "    # Print result\n",
    "    print(\n",
    "      \"   Erreur        :\", calcul_erreur(n, A, B, C),  \"\\n\",\n",
    "\t  \"   Temps elapsed :\", t_elapsed,                  \"\\n\",\n",
    "\t  \"   Temps CPU     :\", tcpu,                       \"\\n\",\n",
    "    )\n"
   ]
  }
 ],
 "metadata": {
  "kernelspec": {
   "display_name": "Python 3",
   "language": "python",
   "name": "python3"
  },
  "language_info": {
   "codemirror_mode": {
    "name": "ipython",
    "version": 3
   },
   "file_extension": ".py",
   "mimetype": "text/x-python",
   "name": "python",
   "nbconvert_exporter": "python",
   "pygments_lexer": "ipython3",
   "version": "3.8.13"
  }
 },
 "nbformat": 4,
 "nbformat_minor": 5
}
