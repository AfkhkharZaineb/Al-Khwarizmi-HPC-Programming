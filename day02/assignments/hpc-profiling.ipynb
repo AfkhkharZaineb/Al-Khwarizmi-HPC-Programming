{
 "cells": [
  {
   "cell_type": "markdown",
   "id": "f70d89c5",
   "metadata": {},
   "source": [
    "<h1 align=\"center\">Python performance exercises</h1>"
   ]
  },
  {
   "cell_type": "markdown",
   "id": "b73f658f",
   "metadata": {},
   "source": [
    "## Python best practices exercises"
   ]
  },
  {
   "cell_type": "markdown",
   "id": "c5d1a3dc",
   "metadata": {},
   "source": [
    "### Exercise 1\n",
    "\n",
    "considering the following function for concatenating list strings with deliter."
   ]
  },
  {
   "cell_type": "code",
   "execution_count": 1,
   "id": "6afb1b12",
   "metadata": {},
   "outputs": [],
   "source": [
    "def ft_concatenate(l_strings, d):\n",
    "    \"\"\"concatenate list of strings into one string separated by delimeter\"\"\"\n",
    "    res = l_strings[0]\n",
    "    for e in l_strings[1:]:\n",
    "        res = res + d + e\n",
    "    return res"
   ]
  },
  {
   "cell_type": "code",
   "execution_count": 2,
   "id": "d5487eed",
   "metadata": {},
   "outputs": [
    {
     "name": "stdout",
     "output_type": "stream",
     "text": [
      "foobar\n"
     ]
    }
   ],
   "source": [
    "var1 = \"foo\"\n",
    "var2 = \"bar\"\n",
    "var3 = f\"{var1}{var2}\"\n",
    "print(var3) "
   ]
  },
  {
   "cell_type": "markdown",
   "id": "ac1a6004",
   "metadata": {},
   "source": [
    "- profile the function and identify the bottlenecks.\n",
    "- improve speed up of the function\n",
    "*Hint: you may need to look to the string functions in python documentation*"
   ]
  },
  {
   "cell_type": "code",
   "execution_count": 3,
   "id": "b76efce2",
   "metadata": {},
   "outputs": [
    {
     "name": "stdout",
     "output_type": "stream",
     "text": [
      "389 ns ± 5.29 ns per loop (mean ± std. dev. of 7 runs, 1000000 loops each)\n"
     ]
    }
   ],
   "source": [
    "# write your code here\n",
    "a = [\"Hello\",\"World\"]\n",
    "%timeit ft_concatenate(a,' ')"
   ]
  },
  {
   "cell_type": "markdown",
   "id": "17183ae4",
   "metadata": {},
   "source": [
    "- The bottleneck in in the loop \n",
    "\n",
    "using the function join we can avoid using a loop"
   ]
  },
  {
   "cell_type": "code",
   "execution_count": 4,
   "id": "5e29be2b",
   "metadata": {},
   "outputs": [],
   "source": [
    "def ft_concatenate_1(l_strings, d):\n",
    "    \"\"\"concatenate list of strings into one string separated by delimeter\"\"\"\n",
    "    return d.join(l_strings)"
   ]
  },
  {
   "cell_type": "code",
   "execution_count": 5,
   "id": "1cc2700d",
   "metadata": {},
   "outputs": [
    {
     "data": {
      "text/plain": [
       "'Hello World'"
      ]
     },
     "execution_count": 5,
     "metadata": {},
     "output_type": "execute_result"
    }
   ],
   "source": [
    "ft_concatenate_1(a,\" \")"
   ]
  },
  {
   "cell_type": "code",
   "execution_count": 6,
   "id": "4fcbf616",
   "metadata": {},
   "outputs": [
    {
     "name": "stdout",
     "output_type": "stream",
     "text": [
      "200 ns ± 3.16 ns per loop (mean ± std. dev. of 7 runs, 1000000 loops each)\n"
     ]
    }
   ],
   "source": [
    "%timeit ft_concatenate_1(a,\" \")"
   ]
  },
  {
   "cell_type": "markdown",
   "id": "a37f59e7",
   "metadata": {},
   "source": [
    "### Exercise 2\n",
    "\n",
    "In this exercise you will solve the following problem using two methods bruteforce mehode, and fast method.\n",
    "\n",
    "**Problem:** You are given a list of n integers, and your task is to calculate the number of distinct values in the list.\n",
    "\n",
    "**Example**\n",
    "- Input:\n",
    "5\n",
    "2 3 2 2 3\n",
    "\n",
    "- Output:\n",
    "3\n",
    "\n",
    "**Implement the following methodes:**\n",
    "\n",
    "1. **bruteforce mehode:** create an empty list and start adding items for the given list without adding the previous item add, at the end the result list will contain unique values, print lenght of the list and you are done. \n",
    "2. **fast method** think of using Set data structure.\n",
    "\n",
    "- time the two methods, what do you think?"
   ]
  },
  {
   "cell_type": "code",
   "execution_count": 7,
   "id": "da8e5f4d",
   "metadata": {},
   "outputs": [],
   "source": [
    "# bruteforce fast method\n",
    "def distinct_brut(a):\n",
    "    l = [a[0]]\n",
    "    for i in a :\n",
    "        if i not in l :\n",
    "            l.append(i)\n",
    "    return l,len(l)"
   ]
  },
  {
   "cell_type": "code",
   "execution_count": 8,
   "id": "59a2c9a8",
   "metadata": {},
   "outputs": [
    {
     "data": {
      "text/plain": [
       "([5, 2, 3], 3)"
      ]
     },
     "execution_count": 8,
     "metadata": {},
     "output_type": "execute_result"
    }
   ],
   "source": [
    "a = [ 5 ,2 ,3 ,2 ,2 ,3]\n",
    "distinct_brut(a)"
   ]
  },
  {
   "cell_type": "code",
   "execution_count": 9,
   "id": "a53bd872",
   "metadata": {},
   "outputs": [
    {
     "name": "stdout",
     "output_type": "stream",
     "text": [
      "721 ns ± 70.2 ns per loop (mean ± std. dev. of 7 runs, 1000000 loops each)\n"
     ]
    }
   ],
   "source": [
    "%timeit distinct_brut(a)"
   ]
  },
  {
   "cell_type": "code",
   "execution_count": 10,
   "id": "25564538",
   "metadata": {},
   "outputs": [],
   "source": [
    "# write fast method\n",
    "def distinct_fast(a):\n",
    "    # insert the list to the set\n",
    "    list_set = set(a)\n",
    "    # convert the set to the list\n",
    "    unique_list = (list(list_set))\n",
    "    return unique_list, len(unique_list)"
   ]
  },
  {
   "cell_type": "code",
   "execution_count": 11,
   "id": "b9f95ff6",
   "metadata": {},
   "outputs": [
    {
     "data": {
      "text/plain": [
       "([2, 3, 5], 3)"
      ]
     },
     "execution_count": 11,
     "metadata": {},
     "output_type": "execute_result"
    }
   ],
   "source": [
    "distinct_fast(a)"
   ]
  },
  {
   "cell_type": "code",
   "execution_count": 12,
   "id": "c19f2817",
   "metadata": {},
   "outputs": [
    {
     "name": "stdout",
     "output_type": "stream",
     "text": [
      "625 ns ± 21.3 ns per loop (mean ± std. dev. of 7 runs, 1000000 loops each)\n"
     ]
    }
   ],
   "source": [
    "%timeit distinct_fast(a)"
   ]
  },
  {
   "cell_type": "markdown",
   "id": "5a68762d",
   "metadata": {},
   "source": [
    "## Cython exercises"
   ]
  },
  {
   "cell_type": "markdown",
   "id": "ba8d100f",
   "metadata": {},
   "source": [
    "### Exercise 1"
   ]
  },
  {
   "cell_type": "markdown",
   "id": "a5cf5018",
   "metadata": {},
   "source": [
    "1. load the cython extension."
   ]
  },
  {
   "cell_type": "code",
   "execution_count": 13,
   "id": "0b55e2e1",
   "metadata": {},
   "outputs": [],
   "source": [
    "%load_ext Cython"
   ]
  },
  {
   "cell_type": "markdown",
   "id": "75576b84",
   "metadata": {},
   "source": [
    "2. Condidering the following polynome function:"
   ]
  },
  {
   "cell_type": "code",
   "execution_count": 14,
   "id": "d63e62d1",
   "metadata": {},
   "outputs": [],
   "source": [
    "def poly(a,b):\n",
    "    return 10.5 * a + 3 * (b**2)"
   ]
  },
  {
   "cell_type": "markdown",
   "id": "b2da1a74",
   "metadata": {},
   "source": [
    "- Create an equivalent Cython function of `poly` with name `poly_cy` without any cython improvement, just make its cell a cython cell."
   ]
  },
  {
   "cell_type": "code",
   "execution_count": 15,
   "id": "824387d6",
   "metadata": {},
   "outputs": [],
   "source": [
    "%%cython  \n",
    "\n",
    "\n",
    "def poly_cy(a,b):\n",
    "     return 10.5 * a + 3 * (b**2)"
   ]
  },
  {
   "cell_type": "markdown",
   "id": "0cf47dbe",
   "metadata": {},
   "source": [
    "3. time the performance of Python and Cython version of the function, what is the factor of speed up here between the two verions."
   ]
  },
  {
   "cell_type": "code",
   "execution_count": 16,
   "id": "c50d3cfd",
   "metadata": {},
   "outputs": [
    {
     "name": "stdout",
     "output_type": "stream",
     "text": [
      "417 ns ± 12.7 ns per loop (mean ± std. dev. of 7 runs, 1000000 loops each)\n"
     ]
    }
   ],
   "source": [
    "a = 100\n",
    "b = 5000\n",
    "%timeit  poly(a,b)"
   ]
  },
  {
   "cell_type": "code",
   "execution_count": 17,
   "id": "ea9efab9",
   "metadata": {},
   "outputs": [
    {
     "name": "stdout",
     "output_type": "stream",
     "text": [
      "442 ns ± 23.7 ns per loop (mean ± std. dev. of 7 runs, 1000000 loops each)\n"
     ]
    }
   ],
   "source": [
    "%timeit  poly_cy(a,b)"
   ]
  },
  {
   "cell_type": "markdown",
   "id": "c7bae861",
   "metadata": {},
   "source": [
    "4. Now lets work on another examples using loop.\n",
    "    - rewrite the same function below fib that calculate fibonacci series using cython, but now try to add type for the variables used inside it, add a prefix `_cy` to your new cython function."
   ]
  },
  {
   "cell_type": "code",
   "execution_count": 18,
   "id": "6b4e1cc5",
   "metadata": {},
   "outputs": [],
   "source": [
    "def fib(n):\n",
    "    if n==0 :\n",
    "        return 0\n",
    "    a, b = 0, 1\n",
    "    for i in range(n):\n",
    "        a, b = a + b, a\n",
    "\n",
    "    return a"
   ]
  },
  {
   "cell_type": "code",
   "execution_count": 19,
   "id": "7a88eaed",
   "metadata": {},
   "outputs": [
    {
     "data": {
      "text/plain": [
       "5"
      ]
     },
     "execution_count": 19,
     "metadata": {},
     "output_type": "execute_result"
    }
   ],
   "source": [
    "fib(5)"
   ]
  },
  {
   "cell_type": "code",
   "execution_count": 32,
   "id": "756abe73",
   "metadata": {},
   "outputs": [],
   "source": [
    "%%cython\n",
    "\n",
    "def fib_cy(n):\n",
    "    if n==0 :\n",
    "        return 0\n",
    "    a, b = 0, 1\n",
    "    for i in range(n):\n",
    "        a, b = a + b, a\n",
    "    return a"
   ]
  },
  {
   "cell_type": "markdown",
   "id": "99c71881",
   "metadata": {},
   "source": [
    "- time the two function for fibonacci series, with n = 20, what is the factor of speed now, What do you think?"
   ]
  },
  {
   "cell_type": "code",
   "execution_count": 22,
   "id": "31fbf30b",
   "metadata": {},
   "outputs": [
    {
     "name": "stdout",
     "output_type": "stream",
     "text": [
      "1.16 µs ± 64.1 ns per loop (mean ± std. dev. of 7 runs, 1000000 loops each)\n"
     ]
    }
   ],
   "source": [
    "%timeit fib(20)"
   ]
  },
  {
   "cell_type": "code",
   "execution_count": 25,
   "id": "c058d2bf",
   "metadata": {},
   "outputs": [
    {
     "name": "stdout",
     "output_type": "stream",
     "text": [
      "656 ns ± 45.1 ns per loop (mean ± std. dev. of 7 runs, 1000000 loops each)\n"
     ]
    }
   ],
   "source": [
    "%timeit fib_cy(20)"
   ]
  },
  {
   "cell_type": "markdown",
   "id": "8b57f304",
   "metadata": {},
   "source": [
    "5. Recursive functions are functions that call themselves during their execution. Another interesting property of the Fibonacci series is that it can be written as a recursive function. That’s because each item depends on the values of other items (namely item n-1 and item n-2)\n",
    "\n",
    "- Rewrite the fib function using recursion. Is it faster than the non-recursive version? Does Cythonizing it give even more of an advantage? "
   ]
  },
  {
   "cell_type": "code",
   "execution_count": 26,
   "id": "e5da1470",
   "metadata": {},
   "outputs": [
    {
     "data": {
      "text/plain": [
       "34"
      ]
     },
     "execution_count": 26,
     "metadata": {},
     "output_type": "execute_result"
    }
   ],
   "source": [
    "def Fibo(n):\n",
    "    # Condition d'arrêt\n",
    "    if n == 0:\n",
    "        return 0\n",
    "    elif n == 1 or n == 2:\n",
    "        return 1\n",
    " \n",
    "    else:\n",
    "        #récursivité\n",
    "        return Fibo(n-1) + Fibo(n-2)\n",
    " \n",
    "Fibo(9)"
   ]
  },
  {
   "cell_type": "code",
   "execution_count": 27,
   "id": "2fa18c9d",
   "metadata": {},
   "outputs": [
    {
     "name": "stdout",
     "output_type": "stream",
     "text": [
      "2.18 ms ± 123 µs per loop (mean ± std. dev. of 7 runs, 100 loops each)\n"
     ]
    }
   ],
   "source": [
    "%timeit Fibo(20)"
   ]
  },
  {
   "cell_type": "markdown",
   "id": "2f5a0f97",
   "metadata": {},
   "source": [
    "- The recursive version takes more time than the non recursive one."
   ]
  },
  {
   "cell_type": "code",
   "execution_count": 37,
   "id": "7c0b27a9",
   "metadata": {},
   "outputs": [],
   "source": [
    "%%cython\n",
    "\n",
    "def Fibo_cy(n):\n",
    "    # Condition d'arrêt\n",
    "    if n == 0:\n",
    "        return 0\n",
    "    elif n == 1 or n == 2:\n",
    "        return 1\n",
    " \n",
    "    else:\n",
    "        #récursivité\n",
    "        return Fibo_cy(n-1) + Fibo_cy(n-2)"
   ]
  },
  {
   "cell_type": "code",
   "execution_count": 38,
   "id": "0d295791",
   "metadata": {},
   "outputs": [
    {
     "name": "stdout",
     "output_type": "stream",
     "text": [
      "416 µs ± 18.6 µs per loop (mean ± std. dev. of 7 runs, 1000 loops each)\n"
     ]
    }
   ],
   "source": [
    "%timeit Fibo_cy(20)"
   ]
  },
  {
   "cell_type": "markdown",
   "id": "e2c5667c",
   "metadata": {},
   "source": [
    "### Exercise 2\n",
    "\n",
    "- Monte Carlo methods are a broad class of computational algorithms that rely on repeated random sampling to obtain numerical results. \n",
    "- One of the basic examples of getting started with the Monte Carlo algorithm is the estimation of Pi.\n",
    "\n",
    "**Estimation of Pi**\n",
    "\n",
    "- The idea is to simulate random (x, y) points in a 2-D plane with domain as a square of side 1 unit. \n",
    "- Imagine a circle inside the same domain with same diameter and inscribed into the square. \n",
    "- We then calculate the ratio of number points that lied inside the circle and total number of generated points. \n",
    "- Refer to the image below:\n",
    "\n",
    "![demo](../data/MonteCarloPlot.png)\n",
    "\n",
    "We know that area of the square is 1 unit sq while that of circle is $\\pi \\ast  (\\frac{1}{2})^{2} = \\frac{\\pi}{4}$. Now for a very large number of generated points,\n",
    "\n",
    "![demo](../data/MonteCarloCalc.png)\n",
    "\n",
    "\n",
    "## The Algorithm\n",
    "\n",
    "1. Initialize cile_points, square_points and interval to 0.\n",
    "2. Generate random point x.\n",
    "3. Generate random point y.\n",
    "4. Calculate d = x*x + y*y.\n",
    "5. If d <= 1, increment circle_points.\n",
    "6. Increment square_points.\n",
    "7. Increment interval.\n",
    "8. If increment < NO_OF_ITERATIONS, repeat from 2.\n",
    "9. Calculate pi = 4*(circle_points/square_points).\n",
    "10. Terminate."
   ]
  },
  {
   "cell_type": "markdown",
   "id": "aac70cef",
   "metadata": {},
   "source": [
    "**Your mission:** time the function `monte_carlo_pi`, identify the bottlenecks and create a new version using cython functionality to speed up monte carlo simulation for PI, use 100,000 points and compare the speed up factor between python and cython, considering the following optimizations:\n",
    "- add type for variables used.\n",
    "- add type for the function\n",
    "- use c rand function instead of python rand function.\n",
    " \n",
    "*Hint: you can import function from C libraries using the following approach `from libc.<name of c library> cimport <library function name>`, replace the holders `<>` with the right identities for the current problem*"
   ]
  },
  {
   "cell_type": "code",
   "execution_count": 61,
   "id": "e0c2032b",
   "metadata": {},
   "outputs": [],
   "source": [
    "import random\n",
    "\n",
    "def simulate_pi(N):\n",
    "  n = 0\n",
    "  for i in range(N):\n",
    "    x = random.uniform(-1,1)\n",
    "    y = random.uniform(-1,1)\n",
    "    if (x**2 + y**2) <= 1 :\n",
    "      n +=1\n",
    "  return 4*(n/N)"
   ]
  },
  {
   "cell_type": "code",
   "execution_count": 66,
   "id": "3561a35c",
   "metadata": {},
   "outputs": [
    {
     "data": {
      "text/plain": [
       "3.140924"
      ]
     },
     "execution_count": 66,
     "metadata": {},
     "output_type": "execute_result"
    }
   ],
   "source": [
    "simulate_pi(1000000)"
   ]
  },
  {
   "cell_type": "code",
   "execution_count": 67,
   "id": "ba7dc7a8",
   "metadata": {},
   "outputs": [
    {
     "name": "stdout",
     "output_type": "stream",
     "text": [
      "845 ms ± 6.06 ms per loop (mean ± std. dev. of 7 runs, 1 loop each)\n"
     ]
    }
   ],
   "source": [
    "%timeit simulate_pi(1000000)"
   ]
  },
  {
   "cell_type": "markdown",
   "id": "926e2caf",
   "metadata": {},
   "source": [
    "## Numba exercises"
   ]
  },
  {
   "cell_type": "markdown",
   "id": "6e3f0db2",
   "metadata": {},
   "source": [
    "### Exercise 1\n",
    "\n",
    "Previously we considered how to approximateby Monte Carlo.\n",
    "\n",
    "- Use the same idea here, but make the code efficient using Numba.\n",
    "- Compare speed with and without Numba when the sample size is large."
   ]
  },
  {
   "cell_type": "code",
   "execution_count": 68,
   "id": "c28fe481",
   "metadata": {},
   "outputs": [],
   "source": [
    "from numba import njit"
   ]
  },
  {
   "cell_type": "code",
   "execution_count": 69,
   "id": "2b4c07b8",
   "metadata": {},
   "outputs": [],
   "source": [
    "@njit\n",
    "def simulate_pi_numba(N):\n",
    "  n = 0\n",
    "  for i in range(N):\n",
    "    x = random.uniform(-1,1)\n",
    "    y = random.uniform(-1,1)\n",
    "    if (x**2 + y**2) <= 1 :\n",
    "      n +=1\n",
    "  return 4*(n/N)"
   ]
  },
  {
   "cell_type": "code",
   "execution_count": 70,
   "id": "318555e8",
   "metadata": {},
   "outputs": [
    {
     "name": "stdout",
     "output_type": "stream",
     "text": [
      "16.6 ms ± 1.18 ms per loop (mean ± std. dev. of 7 runs, 1 loop each)\n"
     ]
    }
   ],
   "source": [
    "%timeit simulate_pi_numba(1000000)"
   ]
  },
  {
   "cell_type": "markdown",
   "id": "33f7d9dd",
   "metadata": {},
   "source": [
    "The execution time improved from 845 ms to 16 ms only."
   ]
  },
  {
   "cell_type": "markdown",
   "id": "80b2dfc0",
   "metadata": {},
   "source": [
    "## Pyccel Exercises"
   ]
  },
  {
   "cell_type": "markdown",
   "id": "110bb770",
   "metadata": {},
   "source": [
    "### Exercise 1\n",
    "\n",
    "considering the following algorithm for binomial coefficient implementation in python.\n",
    "```python\n",
    "def factorial(n : int) -> int:\n",
    "    # to be implemented\n",
    "\n",
    "def binomial_coefficient(n : int, k : int):\n",
    "    num = factorial(n)\n",
    "    den = factorial(k) * factorial(n - k)\n",
    "    return num // den\n",
    "```\n",
    "1. complete the factorial function using recursive methode.\n",
    "2. profile the `binomial_coefficient`.\n",
    "3. try to improve factorial function by using iterative method.\n",
    "4. Use pyccel to accelerate the function.\n",
    "5. compare the benchmark of the two version python vs pyccel."
   ]
  },
  {
   "cell_type": "code",
   "execution_count": 61,
   "id": "6aa7a553",
   "metadata": {},
   "outputs": [],
   "source": [
    "# facturial  function\n",
    "def factorial(n) :\n",
    "    if (n==1 or n==0) :\n",
    "        return 1\n",
    "    else :\n",
    "        return n * factorial(n - 1); "
   ]
  },
  {
   "cell_type": "code",
   "execution_count": 62,
   "id": "9e79d5d8",
   "metadata": {},
   "outputs": [
    {
     "data": {
      "text/plain": [
       "24"
      ]
     },
     "execution_count": 62,
     "metadata": {},
     "output_type": "execute_result"
    }
   ],
   "source": [
    "factorial(4)"
   ]
  },
  {
   "cell_type": "code",
   "execution_count": 63,
   "id": "7b6a10a0",
   "metadata": {},
   "outputs": [
    {
     "data": {
      "text/plain": [
       "120"
      ]
     },
     "execution_count": 63,
     "metadata": {},
     "output_type": "execute_result"
    }
   ],
   "source": [
    "#Binomial coefficient\n",
    "def binomial_coef(n : int, k : int):\n",
    "    num = factorial(n)\n",
    "    den = factorial(k) * factorial(n - k)\n",
    "    return num // den\n",
    "binomial_coef(16,2)"
   ]
  },
  {
   "cell_type": "code",
   "execution_count": 64,
   "id": "c403a3d6",
   "metadata": {},
   "outputs": [
    {
     "name": "stdout",
     "output_type": "stream",
     "text": [
      "61.8 µs ± 1.96 µs per loop (mean ± std. dev. of 7 runs, 10000 loops each)\n"
     ]
    }
   ],
   "source": [
    "%timeit binomial_coef(160,20)"
   ]
  },
  {
   "cell_type": "markdown",
   "id": "37fa8480",
   "metadata": {},
   "source": [
    "The factorial function is time consuming"
   ]
  },
  {
   "cell_type": "code",
   "execution_count": 65,
   "id": "cb6d28cc",
   "metadata": {},
   "outputs": [],
   "source": [
    "#improving factorial function\n",
    "def iter_factorial(n : int):\n",
    "    f = 1\n",
    "    if n == 0 :\n",
    "        return 1\n",
    "    else :\n",
    "        for i in range(1,n+1):\n",
    "            f = f*i\n",
    "    return f"
   ]
  },
  {
   "cell_type": "code",
   "execution_count": 70,
   "id": "ea26160b",
   "metadata": {},
   "outputs": [
    {
     "data": {
      "text/plain": [
       "120"
      ]
     },
     "execution_count": 70,
     "metadata": {},
     "output_type": "execute_result"
    }
   ],
   "source": [
    "#Binomial coefficient\n",
    "def binomial_coef_iter(n : int, k : int):\n",
    "    num = iter_factorial(n)\n",
    "    den = iter_factorial(k) * iter_factorial(n - k)\n",
    "    return num // den\n",
    "binomial_coef_iter(16,2)"
   ]
  },
  {
   "cell_type": "code",
   "execution_count": 71,
   "id": "29772b22",
   "metadata": {},
   "outputs": [
    {
     "name": "stdout",
     "output_type": "stream",
     "text": [
      "22 µs ± 176 ns per loop (mean ± std. dev. of 7 runs, 10000 loops each)\n"
     ]
    }
   ],
   "source": [
    "%timeit binomial_coef_iter(160,20)"
   ]
  },
  {
   "cell_type": "markdown",
   "id": "96918dc2",
   "metadata": {},
   "source": [
    "We could improve the execution time from 62 to 25 micro seconds."
   ]
  },
  {
   "cell_type": "code",
   "execution_count": 72,
   "id": "0e09c782",
   "metadata": {},
   "outputs": [
    {
     "data": {
      "text/plain": [
       "2"
      ]
     },
     "execution_count": 72,
     "metadata": {},
     "output_type": "execute_result"
    }
   ],
   "source": [
    "from pyccel.epyccel import epyccel\n",
    "factorial_pyccel = epyccel(iter_factorial,language = 'c')\n",
    "factorial_pyccel(2)"
   ]
  },
  {
   "cell_type": "code",
   "execution_count": 73,
   "id": "bd3afee3",
   "metadata": {},
   "outputs": [
    {
     "name": "stdout",
     "output_type": "stream",
     "text": [
      "127 ns ± 0.872 ns per loop (mean ± std. dev. of 7 runs, 10000000 loops each)\n"
     ]
    }
   ],
   "source": [
    "%timeit factorial_pyccel(2)"
   ]
  },
  {
   "cell_type": "code",
   "execution_count": 76,
   "id": "a29b85df",
   "metadata": {},
   "outputs": [
    {
     "data": {
      "text/plain": [
       "120"
      ]
     },
     "execution_count": 76,
     "metadata": {},
     "output_type": "execute_result"
    }
   ],
   "source": [
    "#Binomial coefficient\n",
    "def binomial_coef_iter_pyccel(n : int, k : int):\n",
    "    num = factorial_pyccel(n)\n",
    "    den = factorial_pyccel(k) * factorial_pyccel(n - k)\n",
    "    return num // den\n",
    "binomial_coef_iter(16,2)"
   ]
  },
  {
   "cell_type": "code",
   "execution_count": 77,
   "id": "2d9d1428",
   "metadata": {},
   "outputs": [
    {
     "name": "stdout",
     "output_type": "stream",
     "text": [
      "\n",
      "ERROR at annotation (semantic) stage\n",
      "\u001b[1mpyccel\u001b[0m:\n",
      " |\u001b[1m\u001b[5m\u001b[31mfatal\u001b[0m [semantic]: mod_td3wzq104kb2_td3wzq104kb2.py [2,10]| Undefined function (factorial_pyccel)\n",
      "\n"
     ]
    },
    {
     "ename": "PyccelSemanticError",
     "evalue": "Semantic step failed",
     "output_type": "error",
     "traceback": [
      "\u001b[0;31m---------------------------------------------------------------------------\u001b[0m",
      "\u001b[0;31mPyccelSemanticError\u001b[0m                       Traceback (most recent call last)",
      "\u001b[0;32m/tmp/ipykernel_5523/157453346.py\u001b[0m in \u001b[0;36m<module>\u001b[0;34m\u001b[0m\n\u001b[1;32m      1\u001b[0m \u001b[0;32mfrom\u001b[0m \u001b[0mpyccel\u001b[0m\u001b[0;34m.\u001b[0m\u001b[0mepyccel\u001b[0m \u001b[0;32mimport\u001b[0m \u001b[0mepyccel\u001b[0m\u001b[0;34m\u001b[0m\u001b[0;34m\u001b[0m\u001b[0m\n\u001b[0;32m----> 2\u001b[0;31m \u001b[0mbinom_pyccel\u001b[0m \u001b[0;34m=\u001b[0m \u001b[0mepyccel\u001b[0m\u001b[0;34m(\u001b[0m\u001b[0mbinomial_coef_iter_pyccel\u001b[0m\u001b[0;34m,\u001b[0m\u001b[0mlanguage\u001b[0m \u001b[0;34m=\u001b[0m \u001b[0;34m'c'\u001b[0m\u001b[0;34m)\u001b[0m\u001b[0;34m\u001b[0m\u001b[0;34m\u001b[0m\u001b[0m\n\u001b[0m\u001b[1;32m      3\u001b[0m \u001b[0mbinom_pyccel\u001b[0m\u001b[0;34m(\u001b[0m\u001b[0;36m2\u001b[0m\u001b[0;34m)\u001b[0m\u001b[0;34m\u001b[0m\u001b[0;34m\u001b[0m\u001b[0m\n",
      "\u001b[0;32m~/Documents/Al-Khwarizmi-HPC-Programming/v_en/lib/python3.7/site-packages/pyccel/epyccel.py\u001b[0m in \u001b[0;36mepyccel\u001b[0;34m(python_function_or_module, **kwargs)\u001b[0m\n\u001b[1;32m    331\u001b[0m     \u001b[0;31m# Serial version\u001b[0m\u001b[0;34m\u001b[0m\u001b[0;34m\u001b[0m\u001b[0;34m\u001b[0m\u001b[0m\n\u001b[1;32m    332\u001b[0m     \u001b[0;32melse\u001b[0m\u001b[0;34m:\u001b[0m\u001b[0;34m\u001b[0m\u001b[0;34m\u001b[0m\u001b[0m\n\u001b[0;32m--> 333\u001b[0;31m         \u001b[0mmod\u001b[0m\u001b[0;34m,\u001b[0m \u001b[0mfun\u001b[0m \u001b[0;34m=\u001b[0m \u001b[0mepyccel_seq\u001b[0m\u001b[0;34m(\u001b[0m \u001b[0mpython_function_or_module\u001b[0m\u001b[0;34m,\u001b[0m \u001b[0;34m**\u001b[0m\u001b[0mkwargs\u001b[0m \u001b[0;34m)\u001b[0m\u001b[0;34m\u001b[0m\u001b[0;34m\u001b[0m\u001b[0m\n\u001b[0m\u001b[1;32m    334\u001b[0m \u001b[0;34m\u001b[0m\u001b[0m\n\u001b[1;32m    335\u001b[0m     \u001b[0;31m# Return Fortran function (if any), otherwise module\u001b[0m\u001b[0;34m\u001b[0m\u001b[0;34m\u001b[0m\u001b[0;34m\u001b[0m\u001b[0m\n",
      "\u001b[0;32m~/Documents/Al-Khwarizmi-HPC-Programming/v_en/lib/python3.7/site-packages/pyccel/epyccel.py\u001b[0m in \u001b[0;36mepyccel_seq\u001b[0;34m(function_or_module, language, compiler, fflags, wrapper_flags, accelerators, verbose, debug, includes, libdirs, modules, libs, folder)\u001b[0m\n\u001b[1;32m    178\u001b[0m                            \u001b[0mdebug\u001b[0m         \u001b[0;34m=\u001b[0m \u001b[0mdebug\u001b[0m\u001b[0;34m,\u001b[0m\u001b[0;34m\u001b[0m\u001b[0;34m\u001b[0m\u001b[0m\n\u001b[1;32m    179\u001b[0m                            \u001b[0maccelerators\u001b[0m  \u001b[0;34m=\u001b[0m \u001b[0maccelerators\u001b[0m\u001b[0;34m,\u001b[0m\u001b[0;34m\u001b[0m\u001b[0;34m\u001b[0m\u001b[0m\n\u001b[0;32m--> 180\u001b[0;31m                            output_name   = module_name)\n\u001b[0m\u001b[1;32m    181\u001b[0m         \u001b[0;32mfinally\u001b[0m\u001b[0;34m:\u001b[0m\u001b[0;34m\u001b[0m\u001b[0;34m\u001b[0m\u001b[0m\n\u001b[1;32m    182\u001b[0m             \u001b[0;31m# Change working directory back to starting point\u001b[0m\u001b[0;34m\u001b[0m\u001b[0;34m\u001b[0m\u001b[0;34m\u001b[0m\u001b[0m\n",
      "\u001b[0;32m~/Documents/Al-Khwarizmi-HPC-Programming/v_en/lib/python3.7/site-packages/pyccel/codegen/pipeline.py\u001b[0m in \u001b[0;36mexecute_pyccel\u001b[0;34m(fname, syntax_only, semantic_only, convert_only, verbose, folder, language, compiler, fflags, wrapper_flags, includes, libdirs, modules, libs, debug, accelerators, output_name, compiler_export_file)\u001b[0m\n\u001b[1;32m    240\u001b[0m         \u001b[0mhandle_error\u001b[0m\u001b[0;34m(\u001b[0m\u001b[0;34m'annotation (semantic)'\u001b[0m\u001b[0;34m)\u001b[0m\u001b[0;34m\u001b[0m\u001b[0;34m\u001b[0m\u001b[0m\n\u001b[1;32m    241\u001b[0m         \u001b[0;31m# Raise a new error to avoid a large traceback\u001b[0m\u001b[0;34m\u001b[0m\u001b[0;34m\u001b[0m\u001b[0;34m\u001b[0m\u001b[0m\n\u001b[0;32m--> 242\u001b[0;31m         \u001b[0;32mraise\u001b[0m \u001b[0mPyccelSemanticError\u001b[0m\u001b[0;34m(\u001b[0m\u001b[0;34m'Semantic step failed'\u001b[0m\u001b[0;34m)\u001b[0m \u001b[0;32mfrom\u001b[0m \u001b[0;32mNone\u001b[0m\u001b[0;34m\u001b[0m\u001b[0;34m\u001b[0m\u001b[0m\n\u001b[0m\u001b[1;32m    243\u001b[0m \u001b[0;34m\u001b[0m\u001b[0m\n\u001b[1;32m    244\u001b[0m     \u001b[0;32mif\u001b[0m \u001b[0merrors\u001b[0m\u001b[0;34m.\u001b[0m\u001b[0mhas_errors\u001b[0m\u001b[0;34m(\u001b[0m\u001b[0;34m)\u001b[0m\u001b[0;34m:\u001b[0m\u001b[0;34m\u001b[0m\u001b[0;34m\u001b[0m\u001b[0m\n",
      "\u001b[0;31mPyccelSemanticError\u001b[0m: Semantic step failed"
     ]
    }
   ],
   "source": [
    "from pyccel.epyccel import epyccel\n",
    "binom_pyccel = epyccel(binomial_coef_iter_pyccel,language = 'c')\n",
    "binom_pyccel(2)"
   ]
  },
  {
   "cell_type": "code",
   "execution_count": null,
   "id": "7d7f0afb",
   "metadata": {},
   "outputs": [],
   "source": [
    "%timeit factorial_pyccel(2)"
   ]
  }
 ],
 "metadata": {
  "hide_input": false,
  "kernelspec": {
   "display_name": "Python 3 (ipykernel)",
   "language": "python",
   "name": "python3"
  },
  "language_info": {
   "codemirror_mode": {
    "name": "ipython",
    "version": 3
   },
   "file_extension": ".py",
   "mimetype": "text/x-python",
   "name": "python",
   "nbconvert_exporter": "python",
   "pygments_lexer": "ipython3",
   "version": "3.7.13"
  }
 },
 "nbformat": 4,
 "nbformat_minor": 5
}
